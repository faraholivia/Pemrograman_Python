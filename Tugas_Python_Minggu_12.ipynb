{
  "nbformat": 4,
  "nbformat_minor": 0,
  "metadata": {
    "colab": {
      "name": " Tugas Python - Minggu 12",
      "provenance": [],
      "collapsed_sections": [],
      "include_colab_link": true
    },
    "kernelspec": {
      "name": "python3",
      "display_name": "Python 3"
    }
  },
  "cells": [
    {
      "cell_type": "markdown",
      "metadata": {
        "id": "view-in-github",
        "colab_type": "text"
      },
      "source": [
        "<a href=\"https://colab.research.google.com/github/faraholivia/Pemrograman_Python/blob/main/Tugas_Python_Minggu_12.ipynb\" target=\"_parent\"><img src=\"https://colab.research.google.com/assets/colab-badge.svg\" alt=\"Open In Colab\"/></a>"
      ]
    },
    {
      "cell_type": "markdown",
      "metadata": {
        "id": "oQ7LxGh2VFTM"
      },
      "source": [
        "**FARAH OLIVIA HANDAYANI | 1101190152 | TT-43-G10**"
      ]
    },
    {
      "cell_type": "code",
      "metadata": {
        "id": "tT9-Xll4hxnq"
      },
      "source": [
        "import numpy as np"
      ],
      "execution_count": null,
      "outputs": []
    },
    {
      "cell_type": "code",
      "metadata": {
        "id": "rdqgYvRflioU"
      },
      "source": [
        "def ploss(fc, ht, d, area, hg) :\r\n",
        "\r\n",
        "  #nilai c1 & c2\r\n",
        "  if fc >= 400000 and fc <= 1500000:\r\n",
        "    c1 = 69.55\r\n",
        "    c2 = 26.16\r\n",
        "  elif fc > 1500000 and fc <= 2000000:\r\n",
        "    c1 = 46.3\r\n",
        "    c2 = 33.9\r\n",
        "  \r\n",
        "  #nilai cm\r\n",
        "  if area == \"urban\":\r\n",
        "    cm = 0\r\n",
        "  elif area == \"suburb\":\r\n",
        "    cm = -2*(np.log10(fc/28))**2 - 5.4\r\n",
        "  elif area == \"open\":\r\n",
        "    cm = -4.78*(np.log10(fc))**2 + (18.33*np.log10(fc)) - 40.94\r\n",
        "\r\n",
        " \r\n",
        "  ahg = ((1.1*np.log10(fc)) - 0.7)*(hg) - ((1.56*np.log10(fc)) - 0.8)\r\n",
        "  Lp = c1 + c2*np.log10(fc) - 13.83*np.log10(ht) - (ahg) + (44.9 - 6.55*np.log10(ht))*np.log10(d) + cm\r\n",
        "  return Lp"
      ],
      "execution_count": null,
      "outputs": []
    },
    {
      "cell_type": "code",
      "metadata": {
        "colab": {
          "base_uri": "https://localhost:8080/"
        },
        "id": "WxvtcMpoDda-",
        "outputId": "106b230e-e1c6-4f7b-a48e-211f4f2f0d3e"
      },
      "source": [
        "PL = ploss(400000, 300, 5, \"suburb\", 10)\r\n",
        "print(\"pathloss: \", PL, \"dB\")"
      ],
      "execution_count": null,
      "outputs": [
        {
          "output_type": "stream",
          "text": [
            "pathloss:  115.27429957803389 dB\n"
          ],
          "name": "stdout"
        }
      ]
    }
  ]
}